{
  "nbformat": 4,
  "nbformat_minor": 0,
  "metadata": {
    "colab": {
      "provenance": []
    },
    "kernelspec": {
      "name": "python3",
      "display_name": "Python 3"
    },
    "language_info": {
      "name": "python"
    }
  },
  "cells": [
    {
      "cell_type": "code",
      "execution_count": 1,
      "metadata": {
        "id": "3upKGH4ChGnT"
      },
      "outputs": [],
      "source": [
        "def my_func():\n",
        "  print(\"with in a func\")"
      ]
    },
    {
      "cell_type": "code",
      "source": [
        "my_func()"
      ],
      "metadata": {
        "colab": {
          "base_uri": "https://localhost:8080/"
        },
        "id": "Oze6AgAihH3T",
        "outputId": "8afccb9e-7108-46cb-d1c4-a12a502db8bb"
      },
      "execution_count": 2,
      "outputs": [
        {
          "output_type": "stream",
          "name": "stdout",
          "text": [
            "with in a func\n"
          ]
        }
      ]
    },
    {
      "cell_type": "code",
      "source": [
        "def calc_sum(a,b):\n",
        "  return (a+b)"
      ],
      "metadata": {
        "id": "2ii3KohOhTpS"
      },
      "execution_count": 3,
      "outputs": []
    },
    {
      "cell_type": "code",
      "source": [
        "print(calc_sum(3,5))"
      ],
      "metadata": {
        "colab": {
          "base_uri": "https://localhost:8080/"
        },
        "id": "ViaFz6jghbvZ",
        "outputId": "9ab6a0aa-1f52-4243-df96-de0e561bb791"
      },
      "execution_count": 4,
      "outputs": [
        {
          "output_type": "stream",
          "name": "stdout",
          "text": [
            "8\n"
          ]
        }
      ]
    },
    {
      "cell_type": "code",
      "source": [
        "def calc_sum_mul(a,b):\n",
        "  return (a+b), (a*b)"
      ],
      "metadata": {
        "id": "uXBN--jthyQZ"
      },
      "execution_count": 8,
      "outputs": []
    },
    {
      "cell_type": "code",
      "source": [
        "print(calc_sum_mul(4,5))"
      ],
      "metadata": {
        "colab": {
          "base_uri": "https://localhost:8080/"
        },
        "id": "3eybKsR_h_ro",
        "outputId": "ae36d182-678b-4d61-affa-460ce1425956"
      },
      "execution_count": 11,
      "outputs": [
        {
          "output_type": "stream",
          "name": "stdout",
          "text": [
            "(9, 20)\n"
          ]
        }
      ]
    },
    {
      "cell_type": "code",
      "source": [
        "var_sum, var_prod = calc_sum_mul(4,5)"
      ],
      "metadata": {
        "id": "4Mv9KaTpiTBF"
      },
      "execution_count": 12,
      "outputs": []
    },
    {
      "cell_type": "code",
      "source": [
        "print(var_sum)\n",
        "print(var_prod)"
      ],
      "metadata": {
        "colab": {
          "base_uri": "https://localhost:8080/"
        },
        "id": "Tc1pXEFWiz3s",
        "outputId": "b58f3455-ac49-4a33-fea5-e92afb676d82"
      },
      "execution_count": 14,
      "outputs": [
        {
          "output_type": "stream",
          "name": "stdout",
          "text": [
            "9\n",
            "20\n"
          ]
        }
      ]
    },
    {
      "cell_type": "code",
      "source": [
        " my_var = lambda x: x+9"
      ],
      "metadata": {
        "id": "ke6Kzdv_i5K1"
      },
      "execution_count": 15,
      "outputs": []
    },
    {
      "cell_type": "code",
      "source": [
        "print(my_var(5))"
      ],
      "metadata": {
        "colab": {
          "base_uri": "https://localhost:8080/"
        },
        "id": "d43bvHW1jM3V",
        "outputId": "120cebcf-66e9-4ac5-ff18-324e45a79a36"
      },
      "execution_count": 16,
      "outputs": [
        {
          "output_type": "stream",
          "name": "stdout",
          "text": [
            "14\n"
          ]
        }
      ]
    },
    {
      "cell_type": "code",
      "source": [
        "my_sum = lambda x,y : x+y\n",
        "print(my_sum(4,5 ))"
      ],
      "metadata": {
        "colab": {
          "base_uri": "https://localhost:8080/"
        },
        "id": "2RUWBAFejRnu",
        "outputId": "9d878e6c-8ea9-423c-ae06-90d4e5943020"
      },
      "execution_count": 17,
      "outputs": [
        {
          "output_type": "stream",
          "name": "stdout",
          "text": [
            "9\n"
          ]
        }
      ]
    }
  ]
}