{
  "nbformat": 4,
  "nbformat_minor": 0,
  "metadata": {
    "colab": {
      "provenance": []
    },
    "kernelspec": {
      "name": "python3",
      "display_name": "Python 3"
    },
    "language_info": {
      "name": "python"
    }
  },
  "cells": [
    {
      "cell_type": "code",
      "execution_count": null,
      "metadata": {
        "id": "MKfOGjRxwFgh"
      },
      "outputs": [],
      "source": [
        "!wget https://dlcdn.apache.org/spark/spark-3.4.0/spark-3.4.0-bin-hadoop3.tgz\n",
        "!ls\n",
        "!tar -xvzf spark-3.4.0-bin-hadoop3.tgz\n",
        "import os\n",
        "os.environ[\"JAVA_HOME\"] = \"/usr/lib/jvm/java-11-openjdk-amd64\"\n",
        "os.environ[\"SPARK_HOME\"] = \"/content/spark-3.4.0-bin-hadoop3\"\n",
        "!pip install findspark\n",
        "import findspark\n",
        "findspark.init()\n",
        "from pyspark.sql import SparkSession"
      ]
    },
    {
      "cell_type": "code",
      "source": [
        "!wget https://raw.githubusercontent.com/futurexskill/bigdata/master/retailstore.csv"
      ],
      "metadata": {
        "colab": {
          "base_uri": "https://localhost:8080/"
        },
        "id": "XQp0_QcExv6k",
        "outputId": "92d6c80f-88e3-432d-e2a0-795ae24b3921"
      },
      "execution_count": 4,
      "outputs": [
        {
          "output_type": "stream",
          "name": "stdout",
          "text": [
            "--2023-06-15 17:43:25--  https://raw.githubusercontent.com/futurexskill/bigdata/master/retailstore.csv\n",
            "Resolving raw.githubusercontent.com (raw.githubusercontent.com)... 185.199.108.133, 185.199.109.133, 185.199.110.133, ...\n",
            "Connecting to raw.githubusercontent.com (raw.githubusercontent.com)|185.199.108.133|:443... connected.\n",
            "HTTP request sent, awaiting response... 200 OK\n",
            "Length: 279 [text/plain]\n",
            "Saving to: ‘retailstore.csv’\n",
            "\n",
            "retailstore.csv     100%[===================>]     279  --.-KB/s    in 0s      \n",
            "\n",
            "2023-06-15 17:43:26 (10.9 MB/s) - ‘retailstore.csv’ saved [279/279]\n",
            "\n"
          ]
        }
      ]
    },
    {
      "cell_type": "code",
      "source": [
        "spark = SparkSession.builder.master(\"local[*]\").appName(\"df example\").enableHiveSupport().getOrCreate()"
      ],
      "metadata": {
        "id": "00gDM0b3yWkh"
      },
      "execution_count": 5,
      "outputs": []
    },
    {
      "cell_type": "code",
      "source": [
        "customer_df = spark.read.csv(\"retailstore.csv\",header=True)"
      ],
      "metadata": {
        "id": "4_6pZh1Dyu4k"
      },
      "execution_count": 6,
      "outputs": []
    },
    {
      "cell_type": "code",
      "source": [
        "type(customer_df)"
      ],
      "metadata": {
        "colab": {
          "base_uri": "https://localhost:8080/"
        },
        "id": "PqAGKDJSzhwH",
        "outputId": "cf537cc2-7533-47e5-99bf-e117ec46740a"
      },
      "execution_count": 7,
      "outputs": [
        {
          "output_type": "execute_result",
          "data": {
            "text/plain": [
              "pyspark.sql.dataframe.DataFrame"
            ]
          },
          "metadata": {},
          "execution_count": 7
        }
      ]
    },
    {
      "cell_type": "code",
      "source": [
        "customer_df.show()"
      ],
      "metadata": {
        "colab": {
          "base_uri": "https://localhost:8080/"
        },
        "id": "llkkXykkzqzp",
        "outputId": "c2d8c045-14c7-4575-ed2a-b83ae5cc2449"
      },
      "execution_count": 8,
      "outputs": [
        {
          "output_type": "stream",
          "name": "stdout",
          "text": [
            "+----+------+------+-------+---------+\n",
            "| Age|Salary|Gender|Country|Purchased|\n",
            "+----+------+------+-------+---------+\n",
            "|  18| 20000|  Male|Germany|        N|\n",
            "|  19| 22000|Female| France|        N|\n",
            "|  20| 24000|Female|England|        N|\n",
            "|  21|  null|  Male|England|        N|\n",
            "|  22| 50000|  Male| France|        Y|\n",
            "|  23| 35000|Female|England|        N|\n",
            "|  24|  null|  Male|Germany|        N|\n",
            "|  25| 32000|Female| France|        Y|\n",
            "|null| 35000|  Male|Germany|        N|\n",
            "|  27| 37000|Female| France|        N|\n",
            "+----+------+------+-------+---------+\n",
            "\n"
          ]
        }
      ]
    },
    {
      "cell_type": "code",
      "source": [
        "customer_df.select(\"country\").show()"
      ],
      "metadata": {
        "colab": {
          "base_uri": "https://localhost:8080/"
        },
        "id": "jh9zkxnsz5Be",
        "outputId": "d0a2322c-5d73-4d5a-a036-ddd85d788307"
      },
      "execution_count": 9,
      "outputs": [
        {
          "output_type": "stream",
          "name": "stdout",
          "text": [
            "+-------+\n",
            "|country|\n",
            "+-------+\n",
            "|Germany|\n",
            "| France|\n",
            "|England|\n",
            "|England|\n",
            "| France|\n",
            "|England|\n",
            "|Germany|\n",
            "| France|\n",
            "|Germany|\n",
            "| France|\n",
            "+-------+\n",
            "\n"
          ]
        }
      ]
    },
    {
      "cell_type": "code",
      "source": [
        "customer_df.groupBy(\"gender\").count().show()"
      ],
      "metadata": {
        "colab": {
          "base_uri": "https://localhost:8080/"
        },
        "id": "fvQakKX1z-9O",
        "outputId": "2b9e07c5-7bd5-4623-98fe-16a27f595b23"
      },
      "execution_count": 10,
      "outputs": [
        {
          "output_type": "stream",
          "name": "stdout",
          "text": [
            "+------+-----+\n",
            "|gender|count|\n",
            "+------+-----+\n",
            "|Female|    5|\n",
            "|  Male|    5|\n",
            "+------+-----+\n",
            "\n"
          ]
        }
      ]
    },
    {
      "cell_type": "code",
      "source": [
        "customer_df.groupBy(\"country\").count().show()"
      ],
      "metadata": {
        "colab": {
          "base_uri": "https://localhost:8080/"
        },
        "id": "olSApZDs0_Ps",
        "outputId": "64bccfb6-89b6-4504-f5bf-61e097582596"
      },
      "execution_count": 11,
      "outputs": [
        {
          "output_type": "stream",
          "name": "stdout",
          "text": [
            "+-------+-----+\n",
            "|country|count|\n",
            "+-------+-----+\n",
            "|Germany|    3|\n",
            "| France|    4|\n",
            "|England|    3|\n",
            "+-------+-----+\n",
            "\n"
          ]
        }
      ]
    },
    {
      "cell_type": "code",
      "source": [
        "customer_df.createOrReplaceTempView(\"customer\")"
      ],
      "metadata": {
        "id": "IRYCsM2g1SVb"
      },
      "execution_count": 12,
      "outputs": []
    },
    {
      "cell_type": "code",
      "source": [
        "results =spark.sql(\"select * from customer\")"
      ],
      "metadata": {
        "id": "938eOLHf2goN"
      },
      "execution_count": 13,
      "outputs": []
    },
    {
      "cell_type": "code",
      "source": [
        "results.show()"
      ],
      "metadata": {
        "colab": {
          "base_uri": "https://localhost:8080/"
        },
        "id": "3upwqPA02rLp",
        "outputId": "20d1e090-9d16-4ef5-bf9f-c0e5d13770a6"
      },
      "execution_count": 14,
      "outputs": [
        {
          "output_type": "stream",
          "name": "stdout",
          "text": [
            "+----+------+------+-------+---------+\n",
            "| Age|Salary|Gender|Country|Purchased|\n",
            "+----+------+------+-------+---------+\n",
            "|  18| 20000|  Male|Germany|        N|\n",
            "|  19| 22000|Female| France|        N|\n",
            "|  20| 24000|Female|England|        N|\n",
            "|  21|  null|  Male|England|        N|\n",
            "|  22| 50000|  Male| France|        Y|\n",
            "|  23| 35000|Female|England|        N|\n",
            "|  24|  null|  Male|Germany|        N|\n",
            "|  25| 32000|Female| France|        Y|\n",
            "|null| 35000|  Male|Germany|        N|\n",
            "|  27| 37000|Female| France|        N|\n",
            "+----+------+------+-------+---------+\n",
            "\n"
          ]
        }
      ]
    },
    {
      "cell_type": "code",
      "source": [
        "type(results)"
      ],
      "metadata": {
        "colab": {
          "base_uri": "https://localhost:8080/"
        },
        "id": "cxa3T4Wb2uAZ",
        "outputId": "6c2ed9b6-50ab-4819-ef1c-ac2c316eb94c"
      },
      "execution_count": 15,
      "outputs": [
        {
          "output_type": "execute_result",
          "data": {
            "text/plain": [
              "pyspark.sql.dataframe.DataFrame"
            ]
          },
          "metadata": {},
          "execution_count": 15
        }
      ]
    },
    {
      "cell_type": "code",
      "source": [
        "filter_results = spark.sql(\"select * from customer where salary > 30000\").show()"
      ],
      "metadata": {
        "colab": {
          "base_uri": "https://localhost:8080/"
        },
        "id": "QqMro5mP3NyM",
        "outputId": "41d9ed98-4d18-4c1f-be75-f39b6357180f"
      },
      "execution_count": 16,
      "outputs": [
        {
          "output_type": "stream",
          "name": "stdout",
          "text": [
            "+----+------+------+-------+---------+\n",
            "| Age|Salary|Gender|Country|Purchased|\n",
            "+----+------+------+-------+---------+\n",
            "|  22| 50000|  Male| France|        Y|\n",
            "|  23| 35000|Female|England|        N|\n",
            "|  25| 32000|Female| France|        Y|\n",
            "|null| 35000|  Male|Germany|        N|\n",
            "|  27| 37000|Female| France|        N|\n",
            "+----+------+------+-------+---------+\n",
            "\n"
          ]
        }
      ]
    },
    {
      "cell_type": "code",
      "source": [
        "customer_df.filter(\"salary > 30000\").show()"
      ],
      "metadata": {
        "colab": {
          "base_uri": "https://localhost:8080/"
        },
        "id": "O0P4YKPj3XC7",
        "outputId": "f337a269-c0dc-4ae0-d9a9-14f01c14af74"
      },
      "execution_count": 17,
      "outputs": [
        {
          "output_type": "stream",
          "name": "stdout",
          "text": [
            "+----+------+------+-------+---------+\n",
            "| Age|Salary|Gender|Country|Purchased|\n",
            "+----+------+------+-------+---------+\n",
            "|  22| 50000|  Male| France|        Y|\n",
            "|  23| 35000|Female|England|        N|\n",
            "|  25| 32000|Female| France|        Y|\n",
            "|null| 35000|  Male|Germany|        N|\n",
            "|  27| 37000|Female| France|        N|\n",
            "+----+------+------+-------+---------+\n",
            "\n"
          ]
        }
      ]
    },
    {
      "cell_type": "code",
      "source": [
        "customer_df.groupby(\"country\").agg({\"salary\":\"avg\",\"age\":\"max\"}).show()"
      ],
      "metadata": {
        "colab": {
          "base_uri": "https://localhost:8080/"
        },
        "id": "J57ZDvzn3fZg",
        "outputId": "f88c8013-c40e-4356-e5c7-f08103fe9402"
      },
      "execution_count": 18,
      "outputs": [
        {
          "output_type": "stream",
          "name": "stdout",
          "text": [
            "+-------+-----------+--------+\n",
            "|country|avg(salary)|max(age)|\n",
            "+-------+-----------+--------+\n",
            "|England|    29500.0|      23|\n",
            "| France|    35250.0|      27|\n",
            "|Germany|    27500.0|      24|\n",
            "+-------+-----------+--------+\n",
            "\n"
          ]
        }
      ]
    },
    {
      "cell_type": "code",
      "source": [
        "spark.sql(\"select country, avg(salary), max(age)from customer group by country \").show()"
      ],
      "metadata": {
        "colab": {
          "base_uri": "https://localhost:8080/"
        },
        "id": "HlsdJERa4_GY",
        "outputId": "878242d6-f77e-45b9-9630-d6375ba7e183"
      },
      "execution_count": 19,
      "outputs": [
        {
          "output_type": "stream",
          "name": "stdout",
          "text": [
            "+-------+-----------+--------+\n",
            "|country|avg(salary)|max(age)|\n",
            "+-------+-----------+--------+\n",
            "|England|    29500.0|      23|\n",
            "| France|    35250.0|      27|\n",
            "|Germany|    27500.0|      24|\n",
            "+-------+-----------+--------+\n",
            "\n"
          ]
        }
      ]
    },
    {
      "cell_type": "code",
      "source": [
        "customer_df.select([\"country\",\"salary\"]).show()"
      ],
      "metadata": {
        "colab": {
          "base_uri": "https://localhost:8080/"
        },
        "id": "zcITeXUT5O54",
        "outputId": "cde87f38-4493-4f9f-fe4f-7c280de70142"
      },
      "execution_count": 20,
      "outputs": [
        {
          "output_type": "stream",
          "name": "stdout",
          "text": [
            "+-------+------+\n",
            "|country|salary|\n",
            "+-------+------+\n",
            "|Germany| 20000|\n",
            "| France| 22000|\n",
            "|England| 24000|\n",
            "|England|  null|\n",
            "| France| 50000|\n",
            "|England| 35000|\n",
            "|Germany|  null|\n",
            "| France| 32000|\n",
            "|Germany| 35000|\n",
            "| France| 37000|\n",
            "+-------+------+\n",
            "\n"
          ]
        }
      ]
    },
    {
      "cell_type": "code",
      "source": [
        "customer_df.withColumn(\"doubleSalary\",customer_df[\"salary\"]*2).show()"
      ],
      "metadata": {
        "colab": {
          "base_uri": "https://localhost:8080/"
        },
        "id": "jwVTnrMw7AIx",
        "outputId": "0c233c95-dc9b-462e-cf67-5574a01b3a05"
      },
      "execution_count": 21,
      "outputs": [
        {
          "output_type": "stream",
          "name": "stdout",
          "text": [
            "+----+------+------+-------+---------+------------+\n",
            "| Age|Salary|Gender|Country|Purchased|doubleSalary|\n",
            "+----+------+------+-------+---------+------------+\n",
            "|  18| 20000|  Male|Germany|        N|     40000.0|\n",
            "|  19| 22000|Female| France|        N|     44000.0|\n",
            "|  20| 24000|Female|England|        N|     48000.0|\n",
            "|  21|  null|  Male|England|        N|        null|\n",
            "|  22| 50000|  Male| France|        Y|    100000.0|\n",
            "|  23| 35000|Female|England|        N|     70000.0|\n",
            "|  24|  null|  Male|Germany|        N|        null|\n",
            "|  25| 32000|Female| France|        Y|     64000.0|\n",
            "|null| 35000|  Male|Germany|        N|     70000.0|\n",
            "|  27| 37000|Female| France|        N|     74000.0|\n",
            "+----+------+------+-------+---------+------------+\n",
            "\n"
          ]
        }
      ]
    },
    {
      "cell_type": "code",
      "source": [
        "from pyspark.sql.functions import lit\n",
        "customer_df.withColumn(\"new_col\",lit(\"K\")).show()\n"
      ],
      "metadata": {
        "colab": {
          "base_uri": "https://localhost:8080/"
        },
        "id": "fDxB5ruX7lHE",
        "outputId": "ce444903-41de-4802-d1b2-b57abd4b6a5a"
      },
      "execution_count": 34,
      "outputs": [
        {
          "output_type": "stream",
          "name": "stdout",
          "text": [
            "+----+------+------+-------+---------+-------+\n",
            "| Age|Salary|Gender|Country|Purchased|new_col|\n",
            "+----+------+------+-------+---------+-------+\n",
            "|  18| 20000|  Male|Germany|        N|      K|\n",
            "|  19| 22000|Female| France|        N|      K|\n",
            "|  20| 24000|Female|England|        N|      K|\n",
            "|  21|  null|  Male|England|        N|      K|\n",
            "|  22| 50000|  Male| France|        Y|      K|\n",
            "|  23| 35000|Female|England|        N|      K|\n",
            "|  24|  null|  Male|Germany|        N|      K|\n",
            "|  25| 32000|Female| France|        Y|      K|\n",
            "|null| 35000|  Male|Germany|        N|      K|\n",
            "|  27| 37000|Female| France|        N|      K|\n",
            "+----+------+------+-------+---------+-------+\n",
            "\n"
          ]
        }
      ]
    },
    {
      "cell_type": "code",
      "source": [
        "customer_df.withColumnRenamed(\"salary\", \"income\").show()"
      ],
      "metadata": {
        "colab": {
          "base_uri": "https://localhost:8080/"
        },
        "id": "5MVNcVte8jur",
        "outputId": "212c4ef1-e64d-405b-d9ab-0cc706cf0b6b"
      },
      "execution_count": 22,
      "outputs": [
        {
          "output_type": "stream",
          "name": "stdout",
          "text": [
            "+----+------+------+-------+---------+\n",
            "| Age|income|Gender|Country|Purchased|\n",
            "+----+------+------+-------+---------+\n",
            "|  18| 20000|  Male|Germany|        N|\n",
            "|  19| 22000|Female| France|        N|\n",
            "|  20| 24000|Female|England|        N|\n",
            "|  21|  null|  Male|England|        N|\n",
            "|  22| 50000|  Male| France|        Y|\n",
            "|  23| 35000|Female|England|        N|\n",
            "|  24|  null|  Male|Germany|        N|\n",
            "|  25| 32000|Female| France|        Y|\n",
            "|null| 35000|  Male|Germany|        N|\n",
            "|  27| 37000|Female| France|        N|\n",
            "+----+------+------+-------+---------+\n",
            "\n"
          ]
        }
      ]
    },
    {
      "cell_type": "code",
      "source": [
        "customer_df.filter(\"salary > 30000\").select(\"age\").show()"
      ],
      "metadata": {
        "colab": {
          "base_uri": "https://localhost:8080/"
        },
        "id": "xHzgfI3p9C8O",
        "outputId": "c69f5891-bc84-476c-eef8-88fc27cfd2fe"
      },
      "execution_count": 23,
      "outputs": [
        {
          "output_type": "stream",
          "name": "stdout",
          "text": [
            "+----+\n",
            "| age|\n",
            "+----+\n",
            "|  22|\n",
            "|  23|\n",
            "|  25|\n",
            "|null|\n",
            "|  27|\n",
            "+----+\n",
            "\n"
          ]
        }
      ]
    },
    {
      "cell_type": "code",
      "source": [
        "customer_df.filter(\"salary > 30000\").select([\"age\",\"country\"]).show()"
      ],
      "metadata": {
        "colab": {
          "base_uri": "https://localhost:8080/"
        },
        "id": "zLukZKlSJttq",
        "outputId": "8f30cb5b-0402-4400-a47c-dca4a3ea633a"
      },
      "execution_count": 24,
      "outputs": [
        {
          "output_type": "stream",
          "name": "stdout",
          "text": [
            "+----+-------+\n",
            "| age|country|\n",
            "+----+-------+\n",
            "|  22| France|\n",
            "|  23|England|\n",
            "|  25| France|\n",
            "|null|Germany|\n",
            "|  27| France|\n",
            "+----+-------+\n",
            "\n"
          ]
        }
      ]
    },
    {
      "cell_type": "code",
      "source": [
        "customer_df.select(\"salary\",\"age\", \"country\").show()"
      ],
      "metadata": {
        "colab": {
          "base_uri": "https://localhost:8080/"
        },
        "id": "_4VxvLP6R-x7",
        "outputId": "a7bdfd48-3d59-4fa6-dd99-47c4b7e22a23"
      },
      "execution_count": 27,
      "outputs": [
        {
          "output_type": "stream",
          "name": "stdout",
          "text": [
            "+------+----+-------+\n",
            "|salary| age|country|\n",
            "+------+----+-------+\n",
            "| 20000|  18|Germany|\n",
            "| 22000|  19| France|\n",
            "| 24000|  20|England|\n",
            "|  null|  21|England|\n",
            "| 50000|  22| France|\n",
            "| 35000|  23|England|\n",
            "|  null|  24|Germany|\n",
            "| 32000|  25| France|\n",
            "| 35000|null|Germany|\n",
            "| 37000|  27| France|\n",
            "+------+----+-------+\n",
            "\n"
          ]
        }
      ]
    },
    {
      "cell_type": "code",
      "source": [
        "customer_df.filter(\"salary > 30000 and salary < 40000\").select([\"age\",\"country\"]).show()"
      ],
      "metadata": {
        "colab": {
          "base_uri": "https://localhost:8080/"
        },
        "id": "EpWkyHGOSFRz",
        "outputId": "8fb07186-d91c-4def-ef24-4e8bf014d3b7"
      },
      "execution_count": 33,
      "outputs": [
        {
          "output_type": "stream",
          "name": "stdout",
          "text": [
            "+----+-------+\n",
            "| age|country|\n",
            "+----+-------+\n",
            "|  23|England|\n",
            "|  25| France|\n",
            "|null|Germany|\n",
            "|  27| France|\n",
            "+----+-------+\n",
            "\n"
          ]
        }
      ]
    },
    {
      "cell_type": "code",
      "source": [
        "from pyspark.sql.functions import countDistinct, avg, stddev"
      ],
      "metadata": {
        "id": "yle7IihvSt-S"
      },
      "execution_count": 29,
      "outputs": []
    },
    {
      "cell_type": "code",
      "source": [
        "customer_df.select(countDistinct(\"country\")).show()"
      ],
      "metadata": {
        "colab": {
          "base_uri": "https://localhost:8080/"
        },
        "id": "nuiWNS6JTbEx",
        "outputId": "48d45235-756d-414b-be33-f638e691d24c"
      },
      "execution_count": 34,
      "outputs": [
        {
          "output_type": "stream",
          "name": "stdout",
          "text": [
            "+-----------------------+\n",
            "|count(DISTINCT country)|\n",
            "+-----------------------+\n",
            "|                      3|\n",
            "+-----------------------+\n",
            "\n"
          ]
        }
      ]
    },
    {
      "cell_type": "code",
      "source": [
        "customer_df.select(countDistinct(\"country\").alias(\"distinct countries count\")).show()"
      ],
      "metadata": {
        "colab": {
          "base_uri": "https://localhost:8080/"
        },
        "id": "zHZlXbuCT_k2",
        "outputId": "1570bbd4-01e0-4945-9276-3a2314e795e1"
      },
      "execution_count": 35,
      "outputs": [
        {
          "output_type": "stream",
          "name": "stdout",
          "text": [
            "+------------------------+\n",
            "|distinct countries count|\n",
            "+------------------------+\n",
            "|                       3|\n",
            "+------------------------+\n",
            "\n"
          ]
        }
      ]
    },
    {
      "cell_type": "code",
      "source": [
        "customer_df.select(avg(\"salary\")).show()"
      ],
      "metadata": {
        "colab": {
          "base_uri": "https://localhost:8080/"
        },
        "id": "EABAt6XCURMx",
        "outputId": "ae176adc-d265-4e02-d6c2-d3f8922a6fb9"
      },
      "execution_count": 36,
      "outputs": [
        {
          "output_type": "stream",
          "name": "stdout",
          "text": [
            "+-----------+\n",
            "|avg(salary)|\n",
            "+-----------+\n",
            "|    31875.0|\n",
            "+-----------+\n",
            "\n"
          ]
        }
      ]
    },
    {
      "cell_type": "code",
      "source": [
        "customer_df.select(avg(\"age\")).show()"
      ],
      "metadata": {
        "colab": {
          "base_uri": "https://localhost:8080/"
        },
        "id": "UnQKysZbUa1o",
        "outputId": "4d03404b-b72c-40fb-9169-c934ce0e0e5f"
      },
      "execution_count": 37,
      "outputs": [
        {
          "output_type": "stream",
          "name": "stdout",
          "text": [
            "+-----------------+\n",
            "|         avg(age)|\n",
            "+-----------------+\n",
            "|22.11111111111111|\n",
            "+-----------------+\n",
            "\n"
          ]
        }
      ]
    },
    {
      "cell_type": "code",
      "source": [
        "customer_df.select(stddev(\"salary\")).show()"
      ],
      "metadata": {
        "colab": {
          "base_uri": "https://localhost:8080/"
        },
        "id": "kKrsxfhKUgoB",
        "outputId": "17d9dc8c-61c5-42a6-d51c-06ecb5418194"
      },
      "execution_count": 38,
      "outputs": [
        {
          "output_type": "stream",
          "name": "stdout",
          "text": [
            "+-------------------+\n",
            "|stddev_samp(salary)|\n",
            "+-------------------+\n",
            "|  9818.895777311942|\n",
            "+-------------------+\n",
            "\n"
          ]
        }
      ]
    },
    {
      "cell_type": "code",
      "source": [
        "from pyspark.sql.functions import format_number"
      ],
      "metadata": {
        "id": "NB2V-yU6UmfR"
      },
      "execution_count": 39,
      "outputs": []
    },
    {
      "cell_type": "code",
      "source": [
        "salary_std=customer_df.select(stddev(\"salary\").alias(\"std\"))"
      ],
      "metadata": {
        "id": "Nsmfz8-nUyQB"
      },
      "execution_count": 41,
      "outputs": []
    },
    {
      "cell_type": "code",
      "source": [
        "salary_std.show()"
      ],
      "metadata": {
        "colab": {
          "base_uri": "https://localhost:8080/"
        },
        "id": "RAKjr0IiU7ZD",
        "outputId": "79359291-aaad-4c4f-a91f-26a27f30839c"
      },
      "execution_count": 42,
      "outputs": [
        {
          "output_type": "stream",
          "name": "stdout",
          "text": [
            "+-----------------+\n",
            "|              std|\n",
            "+-----------------+\n",
            "|9818.895777311942|\n",
            "+-----------------+\n",
            "\n"
          ]
        }
      ]
    },
    {
      "cell_type": "code",
      "source": [
        "salary_std.select(format_number(\"std\",2)).show()"
      ],
      "metadata": {
        "colab": {
          "base_uri": "https://localhost:8080/"
        },
        "id": "F625tE4BVFh6",
        "outputId": "83b9218d-f4dc-4ebc-b40d-5a877738ec70"
      },
      "execution_count": 43,
      "outputs": [
        {
          "output_type": "stream",
          "name": "stdout",
          "text": [
            "+---------------------+\n",
            "|format_number(std, 2)|\n",
            "+---------------------+\n",
            "|             9,818.90|\n",
            "+---------------------+\n",
            "\n"
          ]
        }
      ]
    },
    {
      "cell_type": "code",
      "source": [
        "customer_df.orderBy(\"salary\").show()"
      ],
      "metadata": {
        "colab": {
          "base_uri": "https://localhost:8080/"
        },
        "id": "K26o95D5VT3X",
        "outputId": "767cd9cf-d4f6-4e63-8afc-0ecbfd121fbd"
      },
      "execution_count": 44,
      "outputs": [
        {
          "output_type": "stream",
          "name": "stdout",
          "text": [
            "+----+------+------+-------+---------+\n",
            "| Age|Salary|Gender|Country|Purchased|\n",
            "+----+------+------+-------+---------+\n",
            "|  21|  null|  Male|England|        N|\n",
            "|  24|  null|  Male|Germany|        N|\n",
            "|  18| 20000|  Male|Germany|        N|\n",
            "|  19| 22000|Female| France|        N|\n",
            "|  20| 24000|Female|England|        N|\n",
            "|  25| 32000|Female| France|        Y|\n",
            "|  23| 35000|Female|England|        N|\n",
            "|null| 35000|  Male|Germany|        N|\n",
            "|  27| 37000|Female| France|        N|\n",
            "|  22| 50000|  Male| France|        Y|\n",
            "+----+------+------+-------+---------+\n",
            "\n"
          ]
        }
      ]
    },
    {
      "cell_type": "code",
      "source": [
        "from pyspark.sql.functions import col"
      ],
      "metadata": {
        "id": "7Lt1ysy2VeCC"
      },
      "execution_count": 46,
      "outputs": []
    },
    {
      "cell_type": "code",
      "source": [
        "customer_df.orderBy(col(\"salary\").desc()).show()"
      ],
      "metadata": {
        "colab": {
          "base_uri": "https://localhost:8080/"
        },
        "id": "5AgSmRCCVpnC",
        "outputId": "0131e514-6159-42cd-d486-0e9ed2af45bb"
      },
      "execution_count": 47,
      "outputs": [
        {
          "output_type": "stream",
          "name": "stdout",
          "text": [
            "+----+------+------+-------+---------+\n",
            "| Age|Salary|Gender|Country|Purchased|\n",
            "+----+------+------+-------+---------+\n",
            "|  22| 50000|  Male| France|        Y|\n",
            "|  27| 37000|Female| France|        N|\n",
            "|  23| 35000|Female|England|        N|\n",
            "|null| 35000|  Male|Germany|        N|\n",
            "|  25| 32000|Female| France|        Y|\n",
            "|  20| 24000|Female|England|        N|\n",
            "|  19| 22000|Female| France|        N|\n",
            "|  18| 20000|  Male|Germany|        N|\n",
            "|  21|  null|  Male|England|        N|\n",
            "|  24|  null|  Male|Germany|        N|\n",
            "+----+------+------+-------+---------+\n",
            "\n"
          ]
        }
      ]
    },
    {
      "cell_type": "code",
      "source": [
        "customer_df.orderBy(col(\"salary\").asc()).show()"
      ],
      "metadata": {
        "colab": {
          "base_uri": "https://localhost:8080/"
        },
        "id": "9H3QFSlQVxKO",
        "outputId": "3dd2a461-5c31-4aee-ee8d-5b9e39924590"
      },
      "execution_count": 50,
      "outputs": [
        {
          "output_type": "stream",
          "name": "stdout",
          "text": [
            "+----+------+------+-------+---------+\n",
            "| Age|Salary|Gender|Country|Purchased|\n",
            "+----+------+------+-------+---------+\n",
            "|  21|  null|  Male|England|        N|\n",
            "|  24|  null|  Male|Germany|        N|\n",
            "|  18| 20000|  Male|Germany|        N|\n",
            "|  19| 22000|Female| France|        N|\n",
            "|  20| 24000|Female|England|        N|\n",
            "|  25| 32000|Female| France|        Y|\n",
            "|  23| 35000|Female|England|        N|\n",
            "|null| 35000|  Male|Germany|        N|\n",
            "|  27| 37000|Female| France|        N|\n",
            "|  22| 50000|  Male| France|        Y|\n",
            "+----+------+------+-------+---------+\n",
            "\n"
          ]
        }
      ]
    },
    {
      "cell_type": "code",
      "source": [
        "new_df = customer_df.drop(\"purchased\")"
      ],
      "metadata": {
        "id": "cq8FV5ljV5sD"
      },
      "execution_count": 51,
      "outputs": []
    },
    {
      "cell_type": "code",
      "source": [
        "new_df.show()"
      ],
      "metadata": {
        "colab": {
          "base_uri": "https://localhost:8080/"
        },
        "id": "HHZhIQyNWPlz",
        "outputId": "2ad144ed-5c81-41c8-e0d8-907e6eb272db"
      },
      "execution_count": 52,
      "outputs": [
        {
          "output_type": "stream",
          "name": "stdout",
          "text": [
            "+----+------+------+-------+\n",
            "| Age|Salary|Gender|Country|\n",
            "+----+------+------+-------+\n",
            "|  18| 20000|  Male|Germany|\n",
            "|  19| 22000|Female| France|\n",
            "|  20| 24000|Female|England|\n",
            "|  21|  null|  Male|England|\n",
            "|  22| 50000|  Male| France|\n",
            "|  23| 35000|Female|England|\n",
            "|  24|  null|  Male|Germany|\n",
            "|  25| 32000|Female| France|\n",
            "|null| 35000|  Male|Germany|\n",
            "|  27| 37000|Female| France|\n",
            "+----+------+------+-------+\n",
            "\n"
          ]
        }
      ]
    },
    {
      "cell_type": "code",
      "source": [
        "clean_df = customer_df.na.drop()"
      ],
      "metadata": {
        "id": "ATdv_IbqWTw_"
      },
      "execution_count": 53,
      "outputs": []
    },
    {
      "cell_type": "code",
      "source": [
        "clean_df.show()"
      ],
      "metadata": {
        "colab": {
          "base_uri": "https://localhost:8080/"
        },
        "id": "bmFuSAFZWm1E",
        "outputId": "b827de21-1a5c-4d6f-e1da-91b69130f2df"
      },
      "execution_count": 54,
      "outputs": [
        {
          "output_type": "stream",
          "name": "stdout",
          "text": [
            "+---+------+------+-------+---------+\n",
            "|Age|Salary|Gender|Country|Purchased|\n",
            "+---+------+------+-------+---------+\n",
            "| 18| 20000|  Male|Germany|        N|\n",
            "| 19| 22000|Female| France|        N|\n",
            "| 20| 24000|Female|England|        N|\n",
            "| 22| 50000|  Male| France|        Y|\n",
            "| 23| 35000|Female|England|        N|\n",
            "| 25| 32000|Female| France|        Y|\n",
            "| 27| 37000|Female| France|        N|\n",
            "+---+------+------+-------+---------+\n",
            "\n"
          ]
        }
      ]
    },
    {
      "cell_type": "code",
      "source": [
        "correct_df1 = customer_df.na.fill(\"n/a\")"
      ],
      "metadata": {
        "id": "H_6EG7J9WrFy"
      },
      "execution_count": 59,
      "outputs": []
    },
    {
      "cell_type": "code",
      "source": [
        "correct_df1.show()"
      ],
      "metadata": {
        "colab": {
          "base_uri": "https://localhost:8080/"
        },
        "id": "n2duGKDCXWg0",
        "outputId": "e018269c-7715-48c9-8876-3fef0466d600"
      },
      "execution_count": 60,
      "outputs": [
        {
          "output_type": "stream",
          "name": "stdout",
          "text": [
            "+---+------+------+-------+---------+\n",
            "|Age|Salary|Gender|Country|Purchased|\n",
            "+---+------+------+-------+---------+\n",
            "| 18| 20000|  Male|Germany|        N|\n",
            "| 19| 22000|Female| France|        N|\n",
            "| 20| 24000|Female|England|        N|\n",
            "| 21|   n/a|  Male|England|        N|\n",
            "| 22| 50000|  Male| France|        Y|\n",
            "| 23| 35000|Female|England|        N|\n",
            "| 24|   n/a|  Male|Germany|        N|\n",
            "| 25| 32000|Female| France|        Y|\n",
            "|n/a| 35000|  Male|Germany|        N|\n",
            "| 27| 37000|Female| France|        N|\n",
            "+---+------+------+-------+---------+\n",
            "\n"
          ]
        }
      ]
    },
    {
      "cell_type": "code",
      "source": [
        "l"
      ],
      "metadata": {
        "id": "Wcw0nk4uX9Hv"
      },
      "execution_count": null,
      "outputs": []
    }
  ]
}